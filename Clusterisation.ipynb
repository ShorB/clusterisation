{
 "cells": [
  {
   "cell_type": "code",
   "execution_count": 1,
   "id": "1bbb8fed-0e47-406f-b2de-3c6f7a8eb2f3",
   "metadata": {},
   "outputs": [],
   "source": [
    "import pandas as pd\n",
    "import numpy as np\n",
    "from sklearn.cluster import KMeans\n",
    "from sklearn.preprocessing import LabelEncoder, StandardScaler\n",
    "import matplotlib.pyplot as plt\n",
    "from sklearn.decomposition import PCA\n",
    "\n"
   ]
  },
  {
   "cell_type": "code",
   "execution_count": 2,
   "id": "8499e09c-911a-407d-84ed-35fdb8ff57a6",
   "metadata": {},
   "outputs": [],
   "source": [
    "data= pd.read_excel('C:\\\\Users\\\\arozhkov\\\\Desktop\\\\Python\\\\280425\\\\Список точек 12.2024.xlsx', sheet_name='Лист1')"
   ]
  },
  {
   "cell_type": "code",
   "execution_count": 3,
   "id": "57ee89c7-04cc-496a-91c7-5c8b6b06a44a",
   "metadata": {},
   "outputs": [],
   "source": [
    "data.rename(columns={'Аптечная сеть': 'Название сети', 'Товарооборот Alpharm': 'Товарооборот'}, inplace=True)"
   ]
  },
  {
   "cell_type": "code",
   "execution_count": 4,
   "id": "ca9ee7b9-fd4d-4356-9b66-393f0ca8f0d7",
   "metadata": {},
   "outputs": [],
   "source": [
    "data= data.dropna()"
   ]
  },
  {
   "cell_type": "code",
   "execution_count": 5,
   "id": "60e8ac77-bfb5-4321-9fbe-1b0bca772166",
   "metadata": {},
   "outputs": [],
   "source": [
    "data = data.sample(n=5000, random_state=1)  # random_state для воспроизводимости"
   ]
  },
  {
   "cell_type": "code",
   "execution_count": 6,
   "id": "23e1fc1a-b430-4116-b6a9-724c8dfe989a",
   "metadata": {},
   "outputs": [],
   "source": [
    "\n",
    "df = pd.DataFrame(data)\n",
    "\n",
    "\n",
    "# Кодируем категориальные признаки\n",
    "label_encoder = LabelEncoder()\n",
    "df['Название сети_код'] = label_encoder.fit_transform(df['Название сети'])\n",
    "df['Населенный пункт_код'] = label_encoder.fit_transform(df['Населенный пункт'])\n",
    "\n",
    "# Выбираем признаки для кластеризации\n",
    "features = df[['Название сети_код', 'Товарооборот', 'Населенный пункт_код']]\n",
    "\n",
    "# Масштабируем данные\n",
    "scaler = StandardScaler()\n",
    "scaled_features = scaler.fit_transform(features)"
   ]
  },
  {
   "cell_type": "code",
   "execution_count": null,
   "id": "46a54703-e2b1-462d-ba98-563ff3f2c175",
   "metadata": {},
   "outputs": [],
   "source": [
    "%%time\n",
    "wcss = []\n",
    "n_samples = len(scaled_features)  # Получаем количество образцов\n",
    "for i in range(1, n_samples + 1):  # Изменяем диапазон до n_samples + 1\n",
    "    kmeans = KMeans(n_clusters=i, init='k-means++', random_state=42)\n",
    "    kmeans.fit(scaled_features)\n",
    "    wcss.append(kmeans.inertia_)\n",
    "\n",
    "plt.plot(range(1, n_samples + 1), wcss)\n",
    "plt.title('Метод локтя')\n",
    "plt.xlabel('Количество кластеров')\n",
    "plt.ylabel('WCSS')\n",
    "plt.show()"
   ]
  },
  {
   "cell_type": "code",
   "execution_count": null,
   "id": "9f26a2d5-04a5-4375-9c03-3c0da64da309",
   "metadata": {},
   "outputs": [],
   "source": [
    "# Выбираем количество кластеров (например, 3)\n",
    "n_clusters = 3\n",
    "\n",
    "# Обучаем модель K-Means\n",
    "kmeans = KMeans(n_clusters=n_clusters, init='k-means++', random_state=42)\n",
    "clusters = kmeans.fit_predict(scaled_features)\n",
    "\n",
    "# Добавляем кластеры в исходный DataFrame\n",
    "df['Кластер'] = clusters\n",
    "\n",
    "# Визуализируем результаты с помощью PCA\n",
    "pca = PCA(n_components=2)\n",
    "principal_components = pca.fit_transform(scaled_features)\n",
    "principal_df = pd.DataFrame(data=principal_components, columns=['PC1', 'PC2'])\n",
    "principal_df['Кластер'] = clusters\n",
    "\n",
    "plt.figure(figsize=(8, 6))\n",
    "for i in range(n_clusters):\n",
    "    plt.scatter(principal_df[principal_df['Кластер'] == i]['PC1'],\n",
    "                principal_df[principal_df['Кластер'] == i]['PC2'],\n",
    "                label=f'Кластер {i}')\n",
    "\n",
    "plt.title('Кластеризация аптечных точек')\n",
    "plt.xlabel('Главная компонента 1')\n",
    "plt.ylabel('Главная компонента 2')\n",
    "plt.legend()\n",
    "plt.show()\n",
    "\n",
    "# Выводим результаты\n",
    "print(df[['Название сети', 'Товарооборот', 'Населенный пункт', 'Кластер']])\n"
   ]
  },
  {
   "cell_type": "code",
   "execution_count": null,
   "id": "0766475c-2aa6-4ee7-bfcb-e954cc3782e7",
   "metadata": {},
   "outputs": [],
   "source": [
    "\n"
   ]
  },
  {
   "cell_type": "code",
   "execution_count": null,
   "id": "b1af55f0-7b25-4f4d-a2a7-902be0e1f7b4",
   "metadata": {},
   "outputs": [],
   "source": []
  },
  {
   "cell_type": "code",
   "execution_count": null,
   "id": "ed464b81-b99e-4b49-8916-7164744220b0",
   "metadata": {},
   "outputs": [],
   "source": []
  },
  {
   "cell_type": "code",
   "execution_count": null,
   "id": "455f962b-5b6c-4672-bbf6-7aab8708a00f",
   "metadata": {},
   "outputs": [],
   "source": []
  },
  {
   "cell_type": "code",
   "execution_count": null,
   "id": "f9afbd51-f7c1-4359-b0ad-611a10a1c09a",
   "metadata": {},
   "outputs": [],
   "source": []
  }
 ],
 "metadata": {
  "kernelspec": {
   "display_name": "Python 3 (ipykernel)",
   "language": "python",
   "name": "python3"
  },
  "language_info": {
   "codemirror_mode": {
    "name": "ipython",
    "version": 3
   },
   "file_extension": ".py",
   "mimetype": "text/x-python",
   "name": "python",
   "nbconvert_exporter": "python",
   "pygments_lexer": "ipython3",
   "version": "3.13.1"
  }
 },
 "nbformat": 4,
 "nbformat_minor": 5
}
